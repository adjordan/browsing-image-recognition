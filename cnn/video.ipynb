{
 "cells": [
  {
   "cell_type": "code",
   "execution_count": 1,
   "metadata": {
    "collapsed": false
   },
   "outputs": [],
   "source": [
    "import requests\n",
    "import numpy as np\n",
    "import os\n",
    "import av"
   ]
  },
  {
   "cell_type": "code",
   "execution_count": 2,
   "metadata": {
    "collapsed": true
   },
   "outputs": [],
   "source": [
    "url = 'https://giant.gfycat.com/BleakZealousGrunion.mp4'\n",
    "r = requests.get(url)\n",
    "with open('waterfall.mp4', 'wb') as f:\n",
    "    f.write(r.content)"
   ]
  },
  {
   "cell_type": "code",
   "execution_count": 3,
   "metadata": {
    "collapsed": false
   },
   "outputs": [],
   "source": [
    "os.makedirs('frames', exist_ok=True)"
   ]
  },
  {
   "cell_type": "code",
   "execution_count": 19,
   "metadata": {
    "collapsed": false
   },
   "outputs": [],
   "source": [
    "# Call to clear frames directory of image files\n",
    "!rm frames/*.jpg"
   ]
  },
  {
   "cell_type": "code",
   "execution_count": 20,
   "metadata": {
    "collapsed": false,
    "scrolled": false
   },
   "outputs": [],
   "source": [
    "FREQ = 4 # Must be an integer\n",
    "\n",
    "container = av.open('waterfall.mp4')\n",
    "framegen = container.decode(video=0)\n",
    "\n",
    "counter = 0\n",
    "for frame in framegen:\n",
    "    current_sec = int(frame.time)\n",
    "    if ((current_sec == counter) and (current_sec % FREQ == 0)):\n",
    "        counter += FREQ\n",
    "        frame.to_image().save('frames/frame-%04d.jpg' % frame.index)"
   ]
  }
 ],
 "metadata": {
  "anaconda-cloud": {},
  "kernelspec": {
   "display_name": "Python [conda env:videoseq]",
   "language": "python",
   "name": "conda-env-videoseq-py"
  },
  "language_info": {
   "codemirror_mode": {
    "name": "ipython",
    "version": 3
   },
   "file_extension": ".py",
   "mimetype": "text/x-python",
   "name": "python",
   "nbconvert_exporter": "python",
   "pygments_lexer": "ipython3",
   "version": "3.6.4"
  }
 },
 "nbformat": 4,
 "nbformat_minor": 2
}
