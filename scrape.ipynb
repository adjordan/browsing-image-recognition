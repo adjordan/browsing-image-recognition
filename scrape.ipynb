{
 "cells": [
  {
   "cell_type": "code",
   "execution_count": 173,
   "metadata": {
    "collapsed": false
   },
   "outputs": [],
   "source": [
    "import os\n",
    "import praw\n",
    "from urllib.request import urlretrieve\n",
    "from urllib.parse import urlparse, urlunparse\n",
    "from shutil import rmtree"
   ]
  },
  {
   "cell_type": "code",
   "execution_count": 184,
   "metadata": {
    "collapsed": false,
    "scrolled": false
   },
   "outputs": [],
   "source": [
    "def clear_img_dir():\n",
    "    rmtree('./img')\n",
    "    os.makedirs('img')\n",
    "\n",
    "def save_image(url, subreddit, i):\n",
    "    try:\n",
    "        urlretrieve(url, 'img/r_{}/{}.jpg'.format(subreddit, i+1))\n",
    "    except:\n",
    "        pass\n",
    "\n",
    "def download_images(subreddit, limit):\n",
    "    os.makedirs('img/r_{}'.format(subreddit), exist_ok=True)\n",
    "    for i, post in enumerate(subreddit.top(limit=limit)):\n",
    "        url = post.url\n",
    "        # Check to see if URL is already in image file format\n",
    "        if re.match('.*\\.(?:jpeg|jpg|png|bmp|tiff|gif)$', url):\n",
    "            save_image(url, subreddit, i)\n",
    "        # Adjust imgur URL format to point to the image file, skipping albums\n",
    "        elif 'imgur' in post.domain:\n",
    "            parsed = list(urlparse(url))\n",
    "            if re.match('/a/.*', parsed[2]): # skip albums\n",
    "                continue\n",
    "            if parsed[1] != 'i.imgur.com': # use image hosting domain\n",
    "                parsed[1] = 'i.imgur.com'\n",
    "            if not re.match('.*\\.(?:jpeg|jpg|png|bmp|tiff|gif)$', parsed[2]): # add jpg file extension\n",
    "                parsed[2] += '.jpg'\n",
    "                url = urlunparse(parsed)\n",
    "            save_image(url, subreddit, i)"
   ]
  },
  {
   "cell_type": "code",
   "execution_count": 185,
   "metadata": {
    "collapsed": false,
    "scrolled": false
   },
   "outputs": [],
   "source": [
    "user_agent = praw.Reddit()\n",
    "subreddit = user_agent.subreddit('pics')\n",
    "clear_img_dir()\n",
    "download_images(subreddit, 100)"
   ]
  }
 ],
 "metadata": {
  "anaconda-cloud": {},
  "kernelspec": {
   "display_name": "Python [default]",
   "language": "python",
   "name": "python3"
  },
  "language_info": {
   "codemirror_mode": {
    "name": "ipython",
    "version": 3
   },
   "file_extension": ".py",
   "mimetype": "text/x-python",
   "name": "python",
   "nbconvert_exporter": "python",
   "pygments_lexer": "ipython3",
   "version": "3.5.2"
  }
 },
 "nbformat": 4,
 "nbformat_minor": 1
}
