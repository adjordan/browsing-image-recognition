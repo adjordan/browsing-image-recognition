{
 "cells": [
  {
   "cell_type": "code",
   "execution_count": 1,
   "metadata": {},
   "outputs": [],
   "source": [
    "%load_ext autoreload\n",
    "%autoreload 2\n",
    "\n",
    "import praw\n",
    "import scrape\n",
    "import obfuscate"
   ]
  },
  {
   "cell_type": "code",
   "execution_count": 29,
   "metadata": {
    "scrolled": false
   },
   "outputs": [
    {
     "name": "stdout",
     "output_type": "stream",
     "text": [
      "Authenticating...\n",
      "Authenticated as austin_josh_test\n",
      "Scraping 1 subreddits for posts with at least 5000 score... 1 Done!\n",
      "Scraped and saved 999 urls.\n"
     ]
    }
   ],
   "source": [
    "urls = scrape.scrape_all(min_score=5000)"
   ]
  },
  {
   "cell_type": "code",
   "execution_count": 31,
   "metadata": {},
   "outputs": [
    {
     "name": "stdout",
     "output_type": "stream",
     "text": [
      "909 (91%) of 999 urls are valid.\n"
     ]
    }
   ],
   "source": [
    "scrape.validate_urls('urls.csv')"
   ]
  },
  {
   "cell_type": "code",
   "execution_count": null,
   "metadata": {
    "scrolled": false
   },
   "outputs": [],
   "source": [
    "scrape.clear_img_dir()\n",
    "scrape.download_images('urls.csv', limit=1000, hide=True)"
   ]
  },
  {
   "cell_type": "code",
   "execution_count": 102,
   "metadata": {},
   "outputs": [
    {
     "name": "stdout",
     "output_type": "stream",
     "text": [
      "Unable to read image 450 (HTTP Error).\n",
      "Unable to read image 848 (Unknown)\n",
      "Unable to read image 640 (HTTP Error).\n",
      "Unable to read image 640 (HTTP Error).\n",
      "Unable to read image 13 (Unknown)\n",
      "45.8 s ± 3.18 s per loop (mean ± std. dev. of 7 runs, 1 loop each)\n"
     ]
    }
   ],
   "source": [
    "%%timeit\n",
    "# Can be used in a for loop\n",
    "for array in scrape.get_images(100):\n",
    "    pass"
   ]
  },
  {
   "cell_type": "code",
   "execution_count": 103,
   "metadata": {},
   "outputs": [
    {
     "name": "stdout",
     "output_type": "stream",
     "text": [
      "353 ms ± 107 ms per loop (mean ± std. dev. of 7 runs, 1 loop each)\n"
     ]
    }
   ],
   "source": [
    "%%timeit\n",
    "# Or can be used like this to get the next image array in the list\n",
    "array_gen = scrape.get_images(100)\n",
    "type(next(array_gen))"
   ]
  }
 ],
 "metadata": {
  "anaconda-cloud": {},
  "kernelspec": {
   "display_name": "Python [conda env:neural-net]",
   "language": "python",
   "name": "conda-env-neural-net-py"
  },
  "language_info": {
   "codemirror_mode": {
    "name": "ipython",
    "version": 3
   },
   "file_extension": ".py",
   "mimetype": "text/x-python",
   "name": "python",
   "nbconvert_exporter": "python",
   "pygments_lexer": "ipython3",
   "version": "3.6.3"
  }
 },
 "nbformat": 4,
 "nbformat_minor": 1
}
