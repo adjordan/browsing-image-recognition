{
 "cells": [
  {
   "cell_type": "code",
   "execution_count": 3,
   "metadata": {
    "collapsed": false
   },
   "outputs": [],
   "source": [
    "import os\n",
    "import praw\n",
    "import re\n",
    "from urllib.request import urlretrieve\n",
    "from urllib.parse import urlparse, urlunparse\n",
    "from shutil import rmtree\n",
    "import scrape\n",
    "import obfuscate"
   ]
  },
  {
   "cell_type": "code",
   "execution_count": 5,
   "metadata": {
    "collapsed": false,
    "scrolled": false
   },
   "outputs": [],
   "source": [
    "user_agent = praw.Reddit()\n",
    "subreddit = user_agent.subreddit('pics')\n",
    "scrape.clear_img_dir()\n",
    "scrape.download_images(subreddit, 100)"
   ]
  }
 ],
 "metadata": {
  "anaconda-cloud": {},
  "kernelspec": {
   "display_name": "Python [default]",
   "language": "python",
   "name": "python3"
  },
  "language_info": {
   "codemirror_mode": {
    "name": "ipython",
    "version": 3
   },
   "file_extension": ".py",
   "mimetype": "text/x-python",
   "name": "python",
   "nbconvert_exporter": "python",
   "pygments_lexer": "ipython3",
   "version": "3.5.2"
  }
 },
 "nbformat": 4,
 "nbformat_minor": 1
}
